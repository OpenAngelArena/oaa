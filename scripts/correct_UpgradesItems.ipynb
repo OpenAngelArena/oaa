{
 "cells": [
  {
   "cell_type": "code",
   "execution_count": null,
   "metadata": {},
   "outputs": [],
   "source": [
    "import os "
   ]
  },
  {
   "cell_type": "code",
   "execution_count": null,
   "metadata": {},
   "outputs": [],
   "source": [
    "exceptions = {\n",
    "  \"item_ultimate_scepter\" : \"item_aghanims_scepter_2\",\n",
    "  \"item_aghanims_scepter_5\" : \"item_ultimate_scepter_2\",\n",
    "  \"item_boots_of_bearing\" : \"item_greater_boots_of_bearing_1\",\n",
    "  \"item_guardian_greaves\" : \"item_greater_guardian_greaves\",\n",
    "  #\"item_power_treads\" : \"item_greater_power_treads\",\n",
    "  \"item_travel_boots_oaa\" : \"item_greater_travel_boots\",\n",
    "}\n",
    "exceptions.keys()"
   ]
  },
  {
   "cell_type": "code",
   "execution_count": null,
   "metadata": {},
   "outputs": [],
   "source": [
    "dirs = [\".\", \"./blinks\", \"./custom\"]\n",
    "#dirs = [\"./blinks\"]\n",
    "for path in dirs:\n",
    "  items = {}\n",
    "  for file in os.listdir(path):\n",
    "    if os.path.isfile(os.path.join(path, file)) and file.endswith(\".txt\"):\n",
    "      with open(os.path.join(path, file), \"r+\") as f:\n",
    "        primed = False\n",
    "        for line in f:\n",
    "          if \"item_\" in line and line.count('\"') == 2 and not \"recipe\" in line:\n",
    "            items[file] = line.replace('\"', '').strip()\n",
    "\n",
    "  print(items)\n",
    "  for file in os.listdir(path):\n",
    "    if os.path.isfile(os.path.join(path, file)) and file.endswith(\".txt\"):\n",
    "      with open(os.path.join(path, file), \"r+\") as f:\n",
    "        contents = f.read()\n",
    "        lines = contents.splitlines()\n",
    "\n",
    "        item = items[file]\n",
    "        item_upgrade = None\n",
    "        if item[-1].isdigit():\n",
    "          item_upgrade = item[:-1] + str(int(item[-1]) + 1)\n",
    "        else:\n",
    "          item_upgrade = item + \"_2\"\n",
    "\n",
    "        max_upgrade_level = None\n",
    "        item_base_level = None\n",
    "        main_location = None\n",
    "        backup_location = None\n",
    "        create_key = True\n",
    "\n",
    "        for i, line in enumerate(lines):\n",
    "          line = line.strip()\n",
    "          if line.startswith('\"MaxUpgradeLevel\"'):\n",
    "            max_upgrade_level = int(line.split('\"')[3])\n",
    "          elif line.startswith('\"ItemBaseLevel\"'):\n",
    "            item_base_level = int(line.split('\"')[3])\n",
    "            backup_location = i\n",
    "          elif line.startswith('\"UpgradesItems\"'):\n",
    "            main_location = i\n",
    "            create_key = False\n",
    "\n",
    "        if ((item_upgrade in items.values() or max_upgrade_level == item_base_level) and max_upgrade_level and item_base_level) or item in exceptions.keys():\n",
    "          result = \"\"\n",
    "          new_line = \"\"\n",
    "\n",
    "          if max_upgrade_level == item_base_level:\n",
    "            new_line = f'    \"UpgradesItems\"                                       \"\"'\n",
    "            result = f'{item} at max level'\n",
    "          else:\n",
    "            new_line = f'    \"UpgradesItems\"                                       \"{item_upgrade}\"'\n",
    "            result = f'{item} upgrades into {item_upgrade}'\n",
    "          if item in exceptions.keys():\n",
    "            new_line = f'    \"UpgradesItems\"                                       \"{exceptions[item]}\"'\n",
    "            result = f'{item} upgrades into {exceptions[item]}'\n",
    "\n",
    "          if create_key:\n",
    "            lines.insert(backup_location + 1, new_line)\n",
    "            result = result + \"; needed to create key\"\n",
    "          else:\n",
    "            lines[main_location] = new_line\n",
    "\n",
    "\n",
    "          f.seek(0)\n",
    "          f.write(\"\\n\".join(lines))\n",
    "          f.truncate()\n",
    "          print(result)\n",
    "        else:\n",
    "          print(f'{item} does not upgrade')\n"
   ]
  }
 ],
 "metadata": {
  "kernelspec": {
   "display_name": "Python 3",
   "language": "python",
   "name": "python3"
  },
  "language_info": {
   "codemirror_mode": {
    "name": "ipython",
    "version": 3
   },
   "file_extension": ".py",
   "mimetype": "text/x-python",
   "name": "python",
   "nbconvert_exporter": "python",
   "pygments_lexer": "ipython3",
   "version": "3.11.8"
  }
 },
 "nbformat": 4,
 "nbformat_minor": 2
}
